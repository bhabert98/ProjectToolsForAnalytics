{
 "cells": [
  {
   "cell_type": "code",
   "execution_count": 1,
   "id": "69621c7a",
   "metadata": {},
   "outputs": [],
   "source": [
    "import numpy as np\n",
    "import pandas as pd"
   ]
  },
  {
   "cell_type": "markdown",
   "id": "c11f7367",
   "metadata": {},
   "source": [
    "In a first Jupyter notebook called `Top10.ipynb`, analyze what the top 10 causes of calls to 311 are in your chosen ZIP code, and calculate how many total incidents of each of these 10 types there have been in the year 2020. Your answer should be a pandas.Series which you must call top10 (as a Python variable), which should be in descending order by number of incidents, and which contains as its labels the incident type (a string) and as associated values the total number of incidents of this type in 2020.\n"
   ]
  },
  {
   "cell_type": "code",
   "execution_count": 30,
   "id": "7d603b02",
   "metadata": {},
   "outputs": [
    {
     "name": "stderr",
     "output_type": "stream",
     "text": [
      "/Users/bastienhabert/anaconda3/lib/python3.6/site-packages/IPython/core/interactiveshell.py:3072: DtypeWarning: Columns (31,32) have mixed types.Specify dtype option on import or set low_memory=False.\n",
      "  interactivity=interactivity, compiler=compiler, result=result)\n"
     ]
    }
   ],
   "source": [
    "df = pd.read_csv('/Users/bastienhabert/Desktop/311_Service_Requests_2020_1.csv', sep=';')"
   ]
  },
  {
   "cell_type": "code",
   "execution_count": 32,
   "id": "895daf2c",
   "metadata": {},
   "outputs": [],
   "source": [
    "df['Created Date'] = pd.to_datetime(df['Created Date'])\n",
    "df['Closed Date'] = pd.to_datetime(df['Closed Date'])\n",
    "df['Due Date'] = pd.to_datetime(df['Due Date'])"
   ]
  },
  {
   "cell_type": "code",
   "execution_count": 33,
   "id": "eb025598",
   "metadata": {},
   "outputs": [
    {
     "data": {
      "text/html": [
       "<div>\n",
       "<style scoped>\n",
       "    .dataframe tbody tr th:only-of-type {\n",
       "        vertical-align: middle;\n",
       "    }\n",
       "\n",
       "    .dataframe tbody tr th {\n",
       "        vertical-align: top;\n",
       "    }\n",
       "\n",
       "    .dataframe thead th {\n",
       "        text-align: right;\n",
       "    }\n",
       "</style>\n",
       "<table border=\"1\" class=\"dataframe\">\n",
       "  <thead>\n",
       "    <tr style=\"text-align: right;\">\n",
       "      <th></th>\n",
       "      <th>Unique Key</th>\n",
       "      <th>Created Date</th>\n",
       "      <th>Closed Date</th>\n",
       "      <th>Agency</th>\n",
       "      <th>Agency Name</th>\n",
       "      <th>Complaint Type</th>\n",
       "      <th>Descriptor</th>\n",
       "      <th>Location Type</th>\n",
       "      <th>Incident Zip</th>\n",
       "      <th>Incident Address</th>\n",
       "      <th>...</th>\n",
       "      <th>Vehicle Type</th>\n",
       "      <th>Taxi Company Borough</th>\n",
       "      <th>Taxi Pick Up Location</th>\n",
       "      <th>Bridge Highway Name</th>\n",
       "      <th>Bridge Highway Direction</th>\n",
       "      <th>Road Ramp</th>\n",
       "      <th>Bridge Highway Segment</th>\n",
       "      <th>Latitude</th>\n",
       "      <th>Longitude</th>\n",
       "      <th>Location</th>\n",
       "    </tr>\n",
       "  </thead>\n",
       "  <tbody>\n",
       "    <tr>\n",
       "      <th>0</th>\n",
       "      <td>45285347</td>\n",
       "      <td>2020-01-01</td>\n",
       "      <td>2020-01-10 00:00:00</td>\n",
       "      <td>DOHMH</td>\n",
       "      <td>Department of Health and Mental Hygiene</td>\n",
       "      <td>Food Poisoning</td>\n",
       "      <td>3 or More</td>\n",
       "      <td>Restaurant/Bar/Deli/Bakery</td>\n",
       "      <td>11229.0</td>\n",
       "      <td>3442 NOSTRAND AVENUE</td>\n",
       "      <td>...</td>\n",
       "      <td>NaN</td>\n",
       "      <td>NaN</td>\n",
       "      <td>NaN</td>\n",
       "      <td>NaN</td>\n",
       "      <td>NaN</td>\n",
       "      <td>NaN</td>\n",
       "      <td>NaN</td>\n",
       "      <td>40.600129</td>\n",
       "      <td>-73.941843</td>\n",
       "      <td>(40.6001292057807, -73.94184291675883)</td>\n",
       "    </tr>\n",
       "    <tr>\n",
       "      <th>1</th>\n",
       "      <td>45285651</td>\n",
       "      <td>2020-01-01</td>\n",
       "      <td>2020-01-02 00:00:00</td>\n",
       "      <td>DOHMH</td>\n",
       "      <td>Department of Health and Mental Hygiene</td>\n",
       "      <td>Food Poisoning</td>\n",
       "      <td>1 or 2</td>\n",
       "      <td>Restaurant/Bar/Deli/Bakery</td>\n",
       "      <td>10458.0</td>\n",
       "      <td>2701 DECATUR AVENUE</td>\n",
       "      <td>...</td>\n",
       "      <td>NaN</td>\n",
       "      <td>NaN</td>\n",
       "      <td>NaN</td>\n",
       "      <td>NaN</td>\n",
       "      <td>NaN</td>\n",
       "      <td>NaN</td>\n",
       "      <td>NaN</td>\n",
       "      <td>40.864866</td>\n",
       "      <td>-73.888783</td>\n",
       "      <td>(40.86486556770799, -73.88878325729915)</td>\n",
       "    </tr>\n",
       "    <tr>\n",
       "      <th>2</th>\n",
       "      <td>45285821</td>\n",
       "      <td>2020-01-01</td>\n",
       "      <td>2020-01-02 09:50:00</td>\n",
       "      <td>DOHMH</td>\n",
       "      <td>Department of Health and Mental Hygiene</td>\n",
       "      <td>Food Poisoning</td>\n",
       "      <td>1 or 2</td>\n",
       "      <td>Other (Explain Below)</td>\n",
       "      <td>11203.0</td>\n",
       "      <td>5707 CHURCH AVENUE</td>\n",
       "      <td>...</td>\n",
       "      <td>NaN</td>\n",
       "      <td>NaN</td>\n",
       "      <td>NaN</td>\n",
       "      <td>NaN</td>\n",
       "      <td>NaN</td>\n",
       "      <td>NaN</td>\n",
       "      <td>NaN</td>\n",
       "      <td>40.652536</td>\n",
       "      <td>-73.923540</td>\n",
       "      <td>(40.65253575905768, -73.92353994017134)</td>\n",
       "    </tr>\n",
       "    <tr>\n",
       "      <th>3</th>\n",
       "      <td>45287907</td>\n",
       "      <td>2020-01-01</td>\n",
       "      <td>2020-01-02 00:00:00</td>\n",
       "      <td>DOHMH</td>\n",
       "      <td>Department of Health and Mental Hygiene</td>\n",
       "      <td>Food Poisoning</td>\n",
       "      <td>3 or More</td>\n",
       "      <td>Restaurant/Bar/Deli/Bakery</td>\n",
       "      <td>11214.0</td>\n",
       "      <td>1602 SHORE PARKWAY</td>\n",
       "      <td>...</td>\n",
       "      <td>NaN</td>\n",
       "      <td>NaN</td>\n",
       "      <td>NaN</td>\n",
       "      <td>NaN</td>\n",
       "      <td>NaN</td>\n",
       "      <td>NaN</td>\n",
       "      <td>NaN</td>\n",
       "      <td>40.595653</td>\n",
       "      <td>-74.000173</td>\n",
       "      <td>(40.59565343138651, -74.00017283917487)</td>\n",
       "    </tr>\n",
       "    <tr>\n",
       "      <th>4</th>\n",
       "      <td>45288240</td>\n",
       "      <td>2020-01-01</td>\n",
       "      <td>2020-01-02 00:00:00</td>\n",
       "      <td>DOHMH</td>\n",
       "      <td>Department of Health and Mental Hygiene</td>\n",
       "      <td>Food Poisoning</td>\n",
       "      <td>1 or 2</td>\n",
       "      <td>Restaurant/Bar/Deli/Bakery</td>\n",
       "      <td>11385.0</td>\n",
       "      <td>1717 CORNELIA STREET</td>\n",
       "      <td>...</td>\n",
       "      <td>NaN</td>\n",
       "      <td>NaN</td>\n",
       "      <td>NaN</td>\n",
       "      <td>NaN</td>\n",
       "      <td>NaN</td>\n",
       "      <td>NaN</td>\n",
       "      <td>NaN</td>\n",
       "      <td>40.700366</td>\n",
       "      <td>-73.905438</td>\n",
       "      <td>(40.700366489799876, -73.90543829006366)</td>\n",
       "    </tr>\n",
       "  </tbody>\n",
       "</table>\n",
       "<p>5 rows × 41 columns</p>\n",
       "</div>"
      ],
      "text/plain": [
       "   Unique Key Created Date         Closed Date Agency  \\\n",
       "0    45285347   2020-01-01 2020-01-10 00:00:00  DOHMH   \n",
       "1    45285651   2020-01-01 2020-01-02 00:00:00  DOHMH   \n",
       "2    45285821   2020-01-01 2020-01-02 09:50:00  DOHMH   \n",
       "3    45287907   2020-01-01 2020-01-02 00:00:00  DOHMH   \n",
       "4    45288240   2020-01-01 2020-01-02 00:00:00  DOHMH   \n",
       "\n",
       "                               Agency Name  Complaint Type Descriptor  \\\n",
       "0  Department of Health and Mental Hygiene  Food Poisoning  3 or More   \n",
       "1  Department of Health and Mental Hygiene  Food Poisoning     1 or 2   \n",
       "2  Department of Health and Mental Hygiene  Food Poisoning     1 or 2   \n",
       "3  Department of Health and Mental Hygiene  Food Poisoning  3 or More   \n",
       "4  Department of Health and Mental Hygiene  Food Poisoning     1 or 2   \n",
       "\n",
       "                Location Type  Incident Zip      Incident Address  ...  \\\n",
       "0  Restaurant/Bar/Deli/Bakery       11229.0  3442 NOSTRAND AVENUE  ...   \n",
       "1  Restaurant/Bar/Deli/Bakery       10458.0   2701 DECATUR AVENUE  ...   \n",
       "2       Other (Explain Below)       11203.0    5707 CHURCH AVENUE  ...   \n",
       "3  Restaurant/Bar/Deli/Bakery       11214.0    1602 SHORE PARKWAY  ...   \n",
       "4  Restaurant/Bar/Deli/Bakery       11385.0  1717 CORNELIA STREET  ...   \n",
       "\n",
       "  Vehicle Type Taxi Company Borough Taxi Pick Up Location Bridge Highway Name  \\\n",
       "0          NaN                  NaN                   NaN                 NaN   \n",
       "1          NaN                  NaN                   NaN                 NaN   \n",
       "2          NaN                  NaN                   NaN                 NaN   \n",
       "3          NaN                  NaN                   NaN                 NaN   \n",
       "4          NaN                  NaN                   NaN                 NaN   \n",
       "\n",
       "  Bridge Highway Direction Road Ramp Bridge Highway Segment   Latitude  \\\n",
       "0                      NaN       NaN                    NaN  40.600129   \n",
       "1                      NaN       NaN                    NaN  40.864866   \n",
       "2                      NaN       NaN                    NaN  40.652536   \n",
       "3                      NaN       NaN                    NaN  40.595653   \n",
       "4                      NaN       NaN                    NaN  40.700366   \n",
       "\n",
       "   Longitude                                  Location  \n",
       "0 -73.941843    (40.6001292057807, -73.94184291675883)  \n",
       "1 -73.888783   (40.86486556770799, -73.88878325729915)  \n",
       "2 -73.923540   (40.65253575905768, -73.92353994017134)  \n",
       "3 -74.000173   (40.59565343138651, -74.00017283917487)  \n",
       "4 -73.905438  (40.700366489799876, -73.90543829006366)  \n",
       "\n",
       "[5 rows x 41 columns]"
      ]
     },
     "execution_count": 33,
     "metadata": {},
     "output_type": "execute_result"
    }
   ],
   "source": [
    "df.head()"
   ]
  },
  {
   "cell_type": "code",
   "execution_count": 45,
   "id": "be3f99a1",
   "metadata": {},
   "outputs": [
    {
     "data": {
      "text/plain": [
       "10466.0    21265\n",
       "11226.0    18734\n",
       "10457.0    16721\n",
       "11385.0    15907\n",
       "10467.0    15451\n",
       "           ...  \n",
       "10151.0        4\n",
       "10158.0        3\n",
       "10153.0        3\n",
       "10166.0        2\n",
       "10055.0        1\n",
       "Name: Incident Zip, Length: 233, dtype: int64"
      ]
     },
     "execution_count": 45,
     "metadata": {},
     "output_type": "execute_result"
    }
   ],
   "source": [
    "df['Incident Zip'].value_counts()"
   ]
  },
  {
   "cell_type": "code",
   "execution_count": 52,
   "id": "f1bfec22",
   "metadata": {},
   "outputs": [],
   "source": [
    "top10 = df[df['Incident Zip'] == 10466]['Complaint Type'].value_counts().head(10)\n",
    "assert type(top10) == pd.core.series.Series"
   ]
  },
  {
   "cell_type": "code",
   "execution_count": 54,
   "id": "c583aae7",
   "metadata": {},
   "outputs": [
    {
     "data": {
      "text/plain": [
       "Noise - Residential            14641\n",
       "HEAT/HOT WATER                  1019\n",
       "Blocked Driveway                 821\n",
       "Illegal Parking                  479\n",
       "Non-Emergency Police Matter      413\n",
       "Street Condition                 258\n",
       "Derelict Vehicles                231\n",
       "UNSANITARY CONDITION             219\n",
       "Noise - Street/Sidewalk          202\n",
       "Abandoned Vehicle                195\n",
       "Name: Complaint Type, dtype: int64"
      ]
     },
     "execution_count": 54,
     "metadata": {},
     "output_type": "execute_result"
    }
   ],
   "source": [
    "top10"
   ]
  },
  {
   "cell_type": "code",
   "execution_count": 63,
   "id": "36e09365",
   "metadata": {},
   "outputs": [
    {
     "data": {
      "text/plain": [
       "Complaint Type\n",
       "Noise - Residential            14641\n",
       "HEAT/HOT WATER                  1019\n",
       "Blocked Driveway                 821\n",
       "Illegal Parking                  479\n",
       "Non-Emergency Police Matter      413\n",
       "Street Condition                 258\n",
       "Derelict Vehicles                231\n",
       "UNSANITARY CONDITION             219\n",
       "Noise - Street/Sidewalk          202\n",
       "Abandoned Vehicle                195\n",
       "Name: Unique Key, dtype: int64"
      ]
     },
     "execution_count": 63,
     "metadata": {},
     "output_type": "execute_result"
    }
   ],
   "source": [
    "df[df['Incident Zip'] == 10466].groupby('Complaint Type').count()['Unique Key'].sort_values(ascending=False).head(10)"
   ]
  },
  {
   "cell_type": "code",
   "execution_count": null,
   "id": "9b6ec459",
   "metadata": {},
   "outputs": [],
   "source": []
  }
 ],
 "metadata": {
  "kernelspec": {
   "display_name": "Python 3",
   "language": "python",
   "name": "python3"
  },
  "language_info": {
   "codemirror_mode": {
    "name": "ipython",
    "version": 3
   },
   "file_extension": ".py",
   "mimetype": "text/x-python",
   "name": "python",
   "nbconvert_exporter": "python",
   "pygments_lexer": "ipython3",
   "version": "3.6.9"
  }
 },
 "nbformat": 4,
 "nbformat_minor": 5
}
